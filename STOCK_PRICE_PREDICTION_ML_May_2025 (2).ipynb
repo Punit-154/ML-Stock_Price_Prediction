{
 "cells": [
  {
   "cell_type": "code",
   "execution_count": null,
   "id": "acf9b2df-e391-4a30-8f95-54e0acde73aa",
   "metadata": {},
   "outputs": [],
   "source": [
    "import numpy as np\n",
    "import pandas as pd\n",
    "import matplotlib.pyplot as plt\n",
    "import seaborn as sns\n",
    "from matplotlib.pylab import rcParams\n",
    "import warnings\n",
    "warnings.filterwarnings('ignore')\n",
    "rcParams['figure.figsize'] = 8,4.5\n"
   ]
  },
  {
   "cell_type": "code",
   "execution_count": null,
   "id": "7dee4723-f86a-4b24-b9e3-4392831ca84d",
   "metadata": {},
   "outputs": [],
   "source": [
    "df1 = pd.read_csv('prices.csv',header =0)\n",
    "df1"
   ]
  },
  {
   "cell_type": "code",
   "execution_count": null,
   "id": "160d66b7-5d32-4f1d-af70-f7ecd6ff2192",
   "metadata": {},
   "outputs": [],
   "source": [
    "print(df1.isnull().sum())"
   ]
  },
  {
   "cell_type": "code",
   "execution_count": null,
   "id": "5cb2ee7b-70bc-4cbd-a486-da84506aab5b",
   "metadata": {},
   "outputs": [],
   "source": [
    "df1.dtypes"
   ]
  },
  {
   "cell_type": "code",
   "execution_count": null,
   "id": "60d85f4d-1784-4a9f-bf5e-61b648f6fc96",
   "metadata": {},
   "outputs": [],
   "source": [
    "x = df1.iloc[:,2:6].values\n",
    "x = np.delete(x,1,axis = 1)\n",
    "x"
   ]
  },
  {
   "cell_type": "code",
   "execution_count": null,
   "id": "dfe7d835-f214-43c7-8fa6-a1acb82372ab",
   "metadata": {},
   "outputs": [],
   "source": [
    "y = df1.iloc[:,3].values\n",
    "y"
   ]
  },
  {
   "cell_type": "code",
   "execution_count": null,
   "id": "d666fee9-05fb-467e-9831-f480583794c5",
   "metadata": {},
   "outputs": [],
   "source": [
    "display(pd.DataFrame(x).corr())"
   ]
  },
  {
   "cell_type": "code",
   "execution_count": null,
   "id": "0126b34e-8915-45cf-836f-f526ecf4b9a1",
   "metadata": {},
   "outputs": [],
   "source": [
    "from sklearn.preprocessing import StandardScaler\n",
    "sc_x= StandardScaler()\n",
    "x = sc_x.fit_transform(x)\n",
    "print (x)\n"
   ]
  },
  {
   "cell_type": "code",
   "execution_count": null,
   "id": "7a5cdd57-5277-4e01-b884-a058baddff3a",
   "metadata": {},
   "outputs": [],
   "source": [
    "from sklearn.decomposition import PCA\n",
    "pca = PCA(n_components = 1)\n",
    "PCA_X = pca.fit_transform(x)\n",
    "print (pd.DataFrame(PCA_X))\n"
   ]
  },
  {
   "cell_type": "code",
   "execution_count": null,
   "id": "812147e2-f82f-486e-be04-0ae67559dd08",
   "metadata": {},
   "outputs": [],
   "source": [
    "print (pca.explained_variance_ratio_)"
   ]
  },
  {
   "cell_type": "code",
   "execution_count": null,
   "id": "5bd96dee-3ad4-4951-b618-8f74002232ce",
   "metadata": {},
   "outputs": [],
   "source": [
    "\n",
    "from sklearn.model_selection import train_test_split\n",
    "PCA_X_train,PCA_X_test, y_train,y_test = train_test_split(PCA_X,y,test_size=0.2,random_state=42)\n",
    "print (PCA_X.shape)\n",
    "print (PCA_X_train.shape)\n",
    "print (PCA_X_test.shape)\n",
    "\n"
   ]
  },
  {
   "cell_type": "code",
   "execution_count": null,
   "id": "49c83ed7-9158-4279-8607-4cb5181c12f5",
   "metadata": {},
   "outputs": [],
   "source": [
    "#to creat linear model\n",
    "from sklearn.linear_model import LinearRegression\n",
    "lr = LinearRegression()\n",
    "lr.fit(PCA_X_train,y_train)\n"
   ]
  },
  {
   "cell_type": "code",
   "execution_count": null,
   "id": "9584bffe-d2d3-4176-bce9-9f1a4eb83880",
   "metadata": {},
   "outputs": [],
   "source": [
    "y_pred = lr.predict(PCA_X_test)\n",
    "y_pred"
   ]
  },
  {
   "cell_type": "code",
   "execution_count": null,
   "id": "1cb6a075-83cc-4eb9-addd-190f6576398d",
   "metadata": {},
   "outputs": [],
   "source": [
    "#to check accuracy\n",
    "from sklearn.metrics import r2_score\n",
    "acc = r2_score(y_test,y_pred)\n",
    "acc"
   ]
  },
  {
   "cell_type": "code",
   "execution_count": null,
   "id": "551bda95-37fb-4b31-af6b-193d9099f4e1",
   "metadata": {},
   "outputs": [],
   "source": [
    "def Plotting_Prediction_VsActual(trainY,train_pred):\n",
    "    trainY = pd.DataFrame(trainY).tail(100)\n",
    "    train_pred = pd.DataFrame(train_pred).tail(100)\n",
    "    print(\"Red - Predicted Stock Prices  ,  Blue - Actual Stock Prices\")\n",
    "    plt.rcParams[\"figure.figsize\"] = (15,7)\n",
    "    plt.plot(trainY  ,color='blue', label='Actual', alpha=0.9)\n",
    "    plt.plot(train_pred, color='red', label='Prediction', alpha=0.5)\n",
    "    plt.xlabel('Time')\n",
    "    plt.ylabel('Stock Prices')\n",
    "    plt.legend(fontsize = 14)\n",
    "    plt.title('Pediction VS Reality Over Time')\n",
    "    plt.grid(True)\n",
    "    plt.show()\n"
   ]
  },
  {
   "cell_type": "code",
   "execution_count": null,
   "id": "9227204d-8ddf-4894-8954-8987b81ef121",
   "metadata": {},
   "outputs": [],
   "source": [
    "def Model_Details(y_test, y_pred):\n",
    "    from sklearn.metrics import r2_score, mean_absolute_error, mean_squared_error\n",
    "    r2 = r2_score(y_test, y_pred)\n",
    "    mae = mean_absolute_error(y_test, y_pred)\n",
    "    rmse = mean_squared_error(y_test, y_pred, squared=False)\n",
    "\n",
    "    print(f\"R² Score        : {r2:.4f}\")\n",
    "    print(f\"MAE (Error)     : {mae:.2f}\")\n",
    "    print(f\"RMSE (Error)    : {rmse:.2f}\")\n",
    "    print(f\"Maximum Actual Price: {max(y_test):.2f}\")\n",
    "    print(f\"Maximum Predicted Price  : {max(y_pred):.2f}\")\n",
    "    print(f\"Minimum Actual Price   : {min(y_test):.2f}\")\n",
    "    print(f\"Minimum Predicted Price  : {min(y_pred):.2f}\")\n"
   ]
  },
  {
   "cell_type": "code",
   "execution_count": null,
   "id": "5d2390e1-d1e6-473f-812f-cbe72242078e",
   "metadata": {},
   "outputs": [],
   "source": [
    "def Model_Prediction_Actual_Graph(x,y):\n",
    "    from sklearn.preprocessing import StandardScaler\n",
    "    from sklearn.decomposition import PCA\n",
    "    from sklearn.model_selection import train_test_split\n",
    "    from sklearn.linear_model import LinearRegression\n",
    "    sc_x= StandardScaler()\n",
    "    x = sc_x.fit_transform(x)\n",
    "    pca = PCA(n_components = 1)\n",
    "    PCA_X = pca.fit_transform(x)\n",
    "    PCA_X_train,PCA_X_test, y_train,y_test = train_test_split(PCA_X,y,test_size=0.2,random_state=42)\n",
    "    lr = LinearRegression()\n",
    "    lr.fit(PCA_X_train,y_train)\n",
    "    y_pred = lr.predict(PCA_X_test)\n",
    "    Plotting_Prediction_VsActual(y_test,y_pred)\n",
    "    Model_Details(y_test,y_pred)"
   ]
  },
  {
   "cell_type": "code",
   "execution_count": null,
   "id": "9594f3af-4119-4cf2-a496-3a9dc5fd31f3",
   "metadata": {},
   "outputs": [],
   "source": [
    "def x_y_values(data):\n",
    "    x = data.iloc[:,2:6].values\n",
    "    x = np.delete(x,1,axis = 1)\n",
    "    y = data.iloc[:,3].values\n",
    "    noise = np.random.normal(0, y.std() * 0.2, size=len(y))  \n",
    "    y = y + noise\n",
    "    return x,y"
   ]
  },
  {
   "cell_type": "code",
   "execution_count": null,
   "id": "4b803cf1-dc9e-4a6b-876e-0e656bf2191b",
   "metadata": {},
   "outputs": [],
   "source": [
    "def print_sideways(data_list, cols=4):\n",
    "    from math import ceil\n",
    "    rows = ceil(len(data_list) / cols)\n",
    "    for r in range(rows):\n",
    "        row_items = []\n",
    "        for c in range(cols):\n",
    "            idx = r + c * rows\n",
    "            if idx < len(data_list):\n",
    "                row_items.append(f\"{data_list[idx]:<20}\")\n",
    "        print(\" | \".join(row_items))"
   ]
  },
  {
   "cell_type": "code",
   "execution_count": null,
   "id": "3a63f877-ef25-48e2-8517-2251424464fb",
   "metadata": {},
   "outputs": [],
   "source": [
    "def Model_Prediction():\n",
    "    df1 = pd.read_csv('prices.csv',header =0 )\n",
    "    df2 = pd.read_csv('securities.csv',header = 0)\n",
    "    codes = df2['Ticker symbol'].unique()\n",
    "    w ='''Select Feature to Use:\n",
    "    1.Prediction Vs Actual Stock Prices for One Company\n",
    "    2.Prediction Vs Actual Stock Prices for Multiple Companies\n",
    "    3.Prediction Vs Actual Stock Prices for All Companies\n",
    "    '''\n",
    "    print(w)\n",
    "    ch_1 = int(input(\"Enter Choice(1/2/3):\"))\n",
    "    if(ch_1 == 1):\n",
    "        print_sideways(codes,6)\n",
    "        company_required = input(\"Enter Company Code to Search:\")\n",
    "        f = df2.loc[df2['Ticker symbol'] == company_required].values[0]\n",
    "        col = df2.columns\n",
    "        for j in range(len(col)):\n",
    "            if(col[j]!='Date first added'):\n",
    "                print(col[j],':',f[j])\n",
    "        data = df1.loc[df1.symbol.str.startswith(company_required) , :]\n",
    "        x,y = x_y_values(data)\n",
    "        Model_Prediction_Actual_Graph(x,y)\n",
    "    elif(ch_1 == 2):\n",
    "        print_sideways(codes,6)\n",
    "        custom_codes = eval(input(\"Enter A List of Companies Using their Codes:\"))\n",
    "        for i in custom_codes:\n",
    "            f = df2.loc[df2['Ticker symbol'] == i].values[0]\n",
    "            col = df2.columns\n",
    "            for j in range(len(col)):\n",
    "                if(col[j]!='Date first added'):\n",
    "                    print(col[j],':',f[j])\n",
    "            data = df1.loc[df1.symbol.str.startswith(i) , :]\n",
    "            x,y = x_y_values(data)\n",
    "            Model_Prediction_Actual_Graph(x,y)\n",
    "    elif(ch_1==3):\n",
    "        print_sideways(codes,6)\n",
    "        for i in codes:\n",
    "            f = df2.loc[df2['Ticker symbol'] == i].values[0]\n",
    "            col = df2.columns\n",
    "            for j in range(len(col)):\n",
    "                if(col[j]!='Date first added'):\n",
    "                    print(col[j],':',f[j])\n",
    "            data = df1.loc[df1.symbol.str.startswith(i) , :]\n",
    "            x,y = x_y_values(data)\n",
    "            Model_Prediction_Actual_Graph(x,y)\n",
    "    else:\n",
    "        print(\"Enter A Valid Choice\")\n",
    "        \n",
    "            \n"
   ]
  },
  {
   "cell_type": "code",
   "execution_count": null,
   "id": "e90316a4-d339-4b92-b4b8-d4fcd3123f80",
   "metadata": {
    "scrolled": true
   },
   "outputs": [],
   "source": [
    "Model_Prediction()"
   ]
  },
  {
   "cell_type": "code",
   "execution_count": null,
   "id": "6abc35f6-b688-4cfa-b433-b3324e7139cc",
   "metadata": {},
   "outputs": [],
   "source": []
  }
 ],
 "metadata": {
  "kernelspec": {
   "display_name": "Python [conda env:base] *",
   "language": "python",
   "name": "conda-base-py"
  },
  "language_info": {
   "codemirror_mode": {
    "name": "ipython",
    "version": 3
   },
   "file_extension": ".py",
   "mimetype": "text/x-python",
   "name": "python",
   "nbconvert_exporter": "python",
   "pygments_lexer": "ipython3",
   "version": "3.12.7"
  }
 },
 "nbformat": 4,
 "nbformat_minor": 5
}
